{
 "cells": [
  {
   "cell_type": "code",
   "execution_count": 1,
   "id": "2d52492a",
   "metadata": {},
   "outputs": [],
   "source": [
    "import os\n",
    "import ffmpeg"
   ]
  },
  {
   "cell_type": "code",
   "execution_count": 2,
   "id": "7d731948",
   "metadata": {},
   "outputs": [],
   "source": [
    "video_dir = \"outputs/video_frames\"\n",
    "img_pattern = '*_leftImg8bit.png'\n",
    "PATTERN = os.path.join(video_dir,  img_pattern)\n",
    "VIDEO_PATH = \"outputs/stuttgart_output.mp4\""
   ]
  },
  {
   "cell_type": "code",
   "execution_count": 3,
   "id": "93f93239",
   "metadata": {},
   "outputs": [
    {
     "data": {
      "text/plain": [
       "'outputs/video_frames/*_leftImg8bit.png'"
      ]
     },
     "execution_count": 3,
     "metadata": {},
     "output_type": "execute_result"
    }
   ],
   "source": [
    "PATTERN"
   ]
  },
  {
   "cell_type": "code",
   "execution_count": 4,
   "id": "324b7106",
   "metadata": {},
   "outputs": [
    {
     "data": {
      "text/plain": [
       "(None, None)"
      ]
     },
     "execution_count": 4,
     "metadata": {},
     "output_type": "execute_result"
    }
   ],
   "source": [
    "ffmpeg.input(\n",
    "    PATTERN, \n",
    "    pattern_type='glob', \n",
    "    framerate=15\n",
    ").output(VIDEO_PATH, pix_fmt='yuv420p', vcodec='libx264').run()"
   ]
  },
  {
   "cell_type": "code",
   "execution_count": null,
   "id": "c05c49ff",
   "metadata": {},
   "outputs": [],
   "source": []
  }
 ],
 "metadata": {
  "kernelspec": {
   "display_name": "Python 3",
   "language": "python",
   "name": "python3"
  },
  "language_info": {
   "codemirror_mode": {
    "name": "ipython",
    "version": 3
   },
   "file_extension": ".py",
   "mimetype": "text/x-python",
   "name": "python",
   "nbconvert_exporter": "python",
   "pygments_lexer": "ipython3",
   "version": "3.7.11"
  }
 },
 "nbformat": 4,
 "nbformat_minor": 5
}
